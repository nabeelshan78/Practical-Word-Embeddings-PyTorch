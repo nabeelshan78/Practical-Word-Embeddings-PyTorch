{
 "cells": [
  {
   "cell_type": "markdown",
   "metadata": {},
   "source": [
    "# Text classification using pretrained word embeddings\n",
    "\n",
    "Using the pretrained embeddings to classify text data into topics:"
   ]
  },
  {
   "cell_type": "markdown",
   "metadata": {},
   "source": [
    "### Installing required libraries\n"
   ]
  },
  {
   "cell_type": "code",
   "execution_count": 1,
   "metadata": {
    "scrolled": true
   },
   "outputs": [],
   "source": [
    "# !pip install pandas\n",
    "# !pip install numpy\n",
    "# !pip install seaborn\n",
    "# !pip install matplotlib\n",
    "# !pip install scikit-learn\n",
    "# !pip install gensim==4.3.3\n",
    "# !pip install pyarrow\n",
    "\n",
    "# !pip install torch==2.2.2 torchtext==0.17.2 nltk\n",
    "# !pip install torchdata==0.7.1"
   ]
  },
  {
   "cell_type": "markdown",
   "metadata": {},
   "source": [
    "### Importing libraries\n"
   ]
  },
  {
   "cell_type": "code",
   "execution_count": 9,
   "metadata": {},
   "outputs": [],
   "source": [
    "import numpy as np\n",
    "import pandas as pd\n",
    "import matplotlib.pyplot as plt\n",
    "from torch.utils.data import random_split\n",
    "from torch.utils.data import Dataset\n",
    "from gensim.models import Word2Vec\n",
    "import torch\n",
    "import torch.nn as nn\n",
    "import torch.optim as optim\n",
    "from torchtext.vocab import vocab\n",
    "from torchtext.data.utils import get_tokenizer\n",
    "from torch.utils.data import DataLoader\n",
    "from collections import OrderedDict\n",
    "from tqdm import tqdm\n",
    "\n",
    "%matplotlib inline\n",
    "def warn(*args, **kwargs):\n",
    "    pass\n",
    "import warnings\n",
    "warnings.warn = warn\n",
    "warnings.filterwarnings('ignore')"
   ]
  },
  {
   "cell_type": "code",
   "execution_count": 3,
   "metadata": {},
   "outputs": [],
   "source": [
    "def find_similar_words(target_word, embedding_dict, top_k=2):\n",
    "    if target_word not in embedding_dict:\n",
    "        return f\"Word '{target_word}' not found in embeddings.\"\n",
    "    \n",
    "    target_vector = embedding_dict[target_word]\n",
    "    similarities = {}\n",
    "\n",
    "    for word, vector in embedding_dict.items():\n",
    "        if word == target_word:\n",
    "            continue\n",
    "        similarity = np.dot(target_vector, vector) / (np.linalg.norm(target_vector) * np.linalg.norm(vector))\n",
    "        similarities[word] = similarity\n",
    "\n",
    "    sorted_words = sorted(similarities.items(), key=lambda x: x[1], reverse=True)\n",
    "    return [word for word, _ in sorted_words[:top_k]]"
   ]
  },
  {
   "cell_type": "code",
   "execution_count": 4,
   "metadata": {},
   "outputs": [
    {
     "data": {
      "text/plain": [
       "device(type='cuda')"
      ]
     },
     "execution_count": 4,
     "metadata": {},
     "output_type": "execute_result"
    }
   ],
   "source": [
    "device = torch.device(\"cuda\" if torch.cuda.is_available() else \"cpu\")\n",
    "device"
   ]
  },
  {
   "cell_type": "code",
   "execution_count": null,
   "metadata": {},
   "outputs": [],
   "source": []
  },
  {
   "cell_type": "code",
   "execution_count": 5,
   "metadata": {},
   "outputs": [
    {
     "name": "stdout",
     "output_type": "stream",
     "text": [
      "Example: ('the', [-0.038194, -0.24487, 0.72812, -0.39961, 0.083172, 0.043953, -0.39141, 0.3344, -0.57545, 0.087459, 0.28787, -0.06731, 0.30906, -0.26384, -0.13231, -0.20757, 0.33395, -0.33848, -0.31743, -0.48336, 0.1464, -0.37304, 0.34577, 0.052041, 0.44946, -0.46971, 0.02628, -0.54155, -0.15518, -0.14107, -0.039722, 0.28277, 0.14393, 0.23464, -0.31021, 0.086173, 0.20397, 0.52624, 0.17164, -0.082378, -0.71787, -0.41531, 0.20335, -0.12763, 0.41367, 0.55187, 0.57908, -0.33477, -0.36559, -0.54857, -0.062892, 0.26584, 0.30205, 0.99775, -0.80481, -3.0243, 0.01254, -0.36942, 2.2167, 0.72201, -0.24978, 0.92136, 0.034514, 0.46745, 1.1079, -0.19358, -0.074575, 0.23353, -0.052062, -0.22044, 0.057162, -0.15806, -0.30798, -0.41625, 0.37972, 0.15006, -0.53212, -0.2055, -1.2526, 0.071624, 0.70565, 0.49744, -0.42063, 0.26148, -1.538, -0.30223, -0.073438, -0.28312, 0.37104, -0.25217, 0.016215, -0.017099, -0.38984, 0.87424, -0.72569, -0.51058, -0.52028, -0.1459, 0.8278, 0.27062])\n"
     ]
    }
   ],
   "source": [
    "# === 2. Load GloVe into a dictionary ===\n",
    "def load_glove_embeddings(file_path):\n",
    "    embeddings_dict = {}\n",
    "    with open(file_path, 'r', encoding='utf-8') as f:\n",
    "        for line in f:\n",
    "            values = line.strip().split()\n",
    "            word = values[0]\n",
    "            vector = [float(x) for x in values[1:]]\n",
    "            embeddings_dict[word] = vector\n",
    "    return embeddings_dict\n",
    "\n",
    "glove_path = \"glove.6B.100d.txt\"\n",
    "embedding_dict_Glove6B = load_glove_embeddings(glove_path)\n",
    "\n",
    "print(\"Example:\", list(embedding_dict_Glove6B.items())[0])"
   ]
  },
  {
   "cell_type": "code",
   "execution_count": 6,
   "metadata": {},
   "outputs": [
    {
     "data": {
      "text/plain": [
       "100"
      ]
     },
     "execution_count": 6,
     "metadata": {},
     "output_type": "execute_result"
    }
   ],
   "source": [
    "len(list(embedding_dict_Glove6B.items())[0][1])"
   ]
  },
  {
   "cell_type": "code",
   "execution_count": 7,
   "metadata": {},
   "outputs": [],
   "source": [
    "# an array of example words\n",
    "words = [\n",
    "    \"taller\",\n",
    "    \"short\",\n",
    "    \"black\",\n",
    "    \"white\",\n",
    "    \"dress\",\n",
    "    \"pants\",\n",
    "    \"big\",\n",
    "    \"small\",\n",
    "    \"red\",\n",
    "    \"blue\",\n",
    "    \"smile\",\n",
    "    \"frown\",\n",
    "    \"race\",\n",
    "    \"stroll\",\n",
    "    \"tiny\",\n",
    "    \"huge\",\n",
    "    \"soft\",\n",
    "    \"rough\",\n",
    "    \"team\",\n",
    "    \"individual\"\n",
    "]\n",
    "\n",
    "\n",
    "words_embedding_dict_Glove6B = {}\n",
    "\n",
    "for word in words:\n",
    "    embedding_vector = embedding_dict_Glove6B[word]\n",
    "    if embedding_vector is not None:\n",
    "        words_embedding_dict_Glove6B[word] = embedding_vector"
   ]
  },
  {
   "cell_type": "code",
   "execution_count": 8,
   "metadata": {},
   "outputs": [
    {
     "name": "stdout",
     "output_type": "stream",
     "text": [
      "4 most similar words to small: ['tiny', 'big', 'huge', 'short']\n"
     ]
    }
   ],
   "source": [
    "# Call the function to find similar words\n",
    "target_word = \"small\"\n",
    "top_k = 4\n",
    "similar_words = find_similar_words(target_word, words_embedding_dict_Glove6B, top_k)\n",
    "\n",
    "print(\"{} most similar words to {}:\".format(top_k, target_word), similar_words)"
   ]
  },
  {
   "cell_type": "markdown",
   "metadata": {},
   "source": [
    "build vocab from the pretrained GloVe:\n"
   ]
  },
  {
   "cell_type": "code",
   "execution_count": 16,
   "metadata": {},
   "outputs": [],
   "source": [
    "ordered_dict = OrderedDict((word, 1) for word in embedding_dict_Glove6B.keys())\n",
    "\n",
    "my_vocab = vocab(ordered_dict, specials=[\"<unk>\", \"<pad>\"])\n",
    "my_vocab.set_default_index(my_vocab[\"<unk>\"])"
   ]
  },
  {
   "cell_type": "code",
   "execution_count": 17,
   "metadata": {},
   "outputs": [
    {
     "data": {
      "text/plain": [
       "400002"
      ]
     },
     "execution_count": 17,
     "metadata": {},
     "output_type": "execute_result"
    }
   ],
   "source": [
    "len(my_vocab)"
   ]
  },
  {
   "cell_type": "code",
   "execution_count": 18,
   "metadata": {},
   "outputs": [
    {
     "data": {
      "text/plain": [
       "[0, 0, 13077]"
      ]
     },
     "execution_count": 18,
     "metadata": {},
     "output_type": "execute_result"
    }
   ],
   "source": [
    "my_vocab([\"<unk>\", \"Hello\", \"hello\"])"
   ]
  },
  {
   "cell_type": "code",
   "execution_count": 36,
   "metadata": {},
   "outputs": [
    {
     "data": {
      "text/plain": [
       "[('sandberger', 400001),\n",
       " ('rolonda', 399999),\n",
       " ('kronik', 399998),\n",
       " ('1.3775', 399995),\n",
       " ('aqm', 399994),\n",
       " ('katuna', 399993),\n",
       " ('sigarms', 399992),\n",
       " ('cipolletti', 399988),\n",
       " ('altares', 399987),\n",
       " ('slann', 399985)]"
      ]
     },
     "execution_count": 36,
     "metadata": {},
     "output_type": "execute_result"
    }
   ],
   "source": [
    "list(my_vocab.get_stoi().items())[:10]"
   ]
  },
  {
   "cell_type": "markdown",
   "metadata": {},
   "source": [
    "tokenize text. using pretrained tokenizers from torch:\n"
   ]
  },
  {
   "cell_type": "code",
   "execution_count": 19,
   "metadata": {},
   "outputs": [],
   "source": [
    "tokenizer = get_tokenizer(\"basic_english\")"
   ]
  },
  {
   "cell_type": "markdown",
   "metadata": {},
   "source": [
    "Create splits from AG_NEWS() dataset for training, validation and test:\n"
   ]
  },
  {
   "cell_type": "code",
   "execution_count": 21,
   "metadata": {},
   "outputs": [
    {
     "name": "stdout",
     "output_type": "stream",
     "text": [
      "Training set shape: (120000, 2)\n"
     ]
    },
    {
     "data": {
      "text/html": [
       "<div>\n",
       "<style scoped>\n",
       "    .dataframe tbody tr th:only-of-type {\n",
       "        vertical-align: middle;\n",
       "    }\n",
       "\n",
       "    .dataframe tbody tr th {\n",
       "        vertical-align: top;\n",
       "    }\n",
       "\n",
       "    .dataframe thead th {\n",
       "        text-align: right;\n",
       "    }\n",
       "</style>\n",
       "<table border=\"1\" class=\"dataframe\">\n",
       "  <thead>\n",
       "    <tr style=\"text-align: right;\">\n",
       "      <th></th>\n",
       "      <th>text</th>\n",
       "      <th>label</th>\n",
       "    </tr>\n",
       "  </thead>\n",
       "  <tbody>\n",
       "    <tr>\n",
       "      <th>0</th>\n",
       "      <td>Wall St. Bears Claw Back Into the Black (Reute...</td>\n",
       "      <td>2</td>\n",
       "    </tr>\n",
       "    <tr>\n",
       "      <th>1</th>\n",
       "      <td>Carlyle Looks Toward Commercial Aerospace (Reu...</td>\n",
       "      <td>2</td>\n",
       "    </tr>\n",
       "    <tr>\n",
       "      <th>2</th>\n",
       "      <td>Oil and Economy Cloud Stocks' Outlook (Reuters...</td>\n",
       "      <td>2</td>\n",
       "    </tr>\n",
       "    <tr>\n",
       "      <th>3</th>\n",
       "      <td>Iraq Halts Oil Exports from Main Southern Pipe...</td>\n",
       "      <td>2</td>\n",
       "    </tr>\n",
       "    <tr>\n",
       "      <th>4</th>\n",
       "      <td>Oil prices soar to all-time record, posing new...</td>\n",
       "      <td>2</td>\n",
       "    </tr>\n",
       "  </tbody>\n",
       "</table>\n",
       "</div>"
      ],
      "text/plain": [
       "                                                text  label\n",
       "0  Wall St. Bears Claw Back Into the Black (Reute...      2\n",
       "1  Carlyle Looks Toward Commercial Aerospace (Reu...      2\n",
       "2  Oil and Economy Cloud Stocks' Outlook (Reuters...      2\n",
       "3  Iraq Halts Oil Exports from Main Southern Pipe...      2\n",
       "4  Oil prices soar to all-time record, posing new...      2"
      ]
     },
     "metadata": {},
     "output_type": "display_data"
    },
    {
     "name": "stdout",
     "output_type": "stream",
     "text": [
      "\n",
      "Test set shape: (7600, 2)\n"
     ]
    },
    {
     "data": {
      "text/html": [
       "<div>\n",
       "<style scoped>\n",
       "    .dataframe tbody tr th:only-of-type {\n",
       "        vertical-align: middle;\n",
       "    }\n",
       "\n",
       "    .dataframe tbody tr th {\n",
       "        vertical-align: top;\n",
       "    }\n",
       "\n",
       "    .dataframe thead th {\n",
       "        text-align: right;\n",
       "    }\n",
       "</style>\n",
       "<table border=\"1\" class=\"dataframe\">\n",
       "  <thead>\n",
       "    <tr style=\"text-align: right;\">\n",
       "      <th></th>\n",
       "      <th>text</th>\n",
       "      <th>label</th>\n",
       "    </tr>\n",
       "  </thead>\n",
       "  <tbody>\n",
       "    <tr>\n",
       "      <th>0</th>\n",
       "      <td>Fears for T N pension after talks Unions repre...</td>\n",
       "      <td>2</td>\n",
       "    </tr>\n",
       "    <tr>\n",
       "      <th>1</th>\n",
       "      <td>The Race is On: Second Private Team Sets Launc...</td>\n",
       "      <td>3</td>\n",
       "    </tr>\n",
       "    <tr>\n",
       "      <th>2</th>\n",
       "      <td>Ky. Company Wins Grant to Study Peptides (AP) ...</td>\n",
       "      <td>3</td>\n",
       "    </tr>\n",
       "    <tr>\n",
       "      <th>3</th>\n",
       "      <td>Prediction Unit Helps Forecast Wildfires (AP) ...</td>\n",
       "      <td>3</td>\n",
       "    </tr>\n",
       "    <tr>\n",
       "      <th>4</th>\n",
       "      <td>Calif. Aims to Limit Farm-Related Smog (AP) AP...</td>\n",
       "      <td>3</td>\n",
       "    </tr>\n",
       "  </tbody>\n",
       "</table>\n",
       "</div>"
      ],
      "text/plain": [
       "                                                text  label\n",
       "0  Fears for T N pension after talks Unions repre...      2\n",
       "1  The Race is On: Second Private Team Sets Launc...      3\n",
       "2  Ky. Company Wins Grant to Study Peptides (AP) ...      3\n",
       "3  Prediction Unit Helps Forecast Wildfires (AP) ...      3\n",
       "4  Calif. Aims to Limit Farm-Related Smog (AP) AP...      3"
      ]
     },
     "metadata": {},
     "output_type": "display_data"
    }
   ],
   "source": [
    "# Load training data\n",
    "train_df = pd.read_parquet(\"ag_news/train.parquet\")\n",
    "print(\"Training set shape:\", train_df.shape)\n",
    "display(train_df.head())\n",
    "\n",
    "# Load test data\n",
    "test_df = pd.read_parquet(\"ag_news/test.parquet\")\n",
    "print(\"\\nTest set shape:\", test_df.shape)\n",
    "display(test_df.head())"
   ]
  },
  {
   "cell_type": "code",
   "execution_count": 22,
   "metadata": {},
   "outputs": [],
   "source": [
    "class NewsDataset(Dataset):\n",
    "    def __init__(self, df):\n",
    "        self.labels = df.iloc[:, 1].tolist()  # second col = label\n",
    "        self.texts = df.iloc[:, 0].tolist()   # first col = text\n",
    "\n",
    "    def __len__(self):\n",
    "        return len(self.labels)\n",
    "\n",
    "    def __getitem__(self, idx):\n",
    "        return self.labels[idx], self.texts[idx]\n",
    "\n",
    "train_dataset_full = NewsDataset(train_df)\n",
    "test_dataset = NewsDataset(test_df)"
   ]
  },
  {
   "cell_type": "code",
   "execution_count": 23,
   "metadata": {},
   "outputs": [
    {
     "name": "stdout",
     "output_type": "stream",
     "text": [
      "Train samples: 102000\n",
      "Valid samples: 18000\n",
      "Test samples:  7600\n"
     ]
    }
   ],
   "source": [
    "num_train = int(len(train_dataset_full) * 0.85)\n",
    "split_train_, split_valid_ = random_split(train_dataset_full, [num_train, len(train_dataset_full) - num_train])\n",
    "\n",
    "print(f\"Train samples: {len(split_train_)}\")\n",
    "print(f\"Valid samples: {len(split_valid_)}\")\n",
    "print(f\"Test samples:  {len(test_dataset)}\")"
   ]
  },
  {
   "cell_type": "code",
   "execution_count": 24,
   "metadata": {},
   "outputs": [
    {
     "name": "stdout",
     "output_type": "stream",
     "text": [
      "(2, 'Borders Profits Rise, Raises Outlook  NEW YORK (Reuters) - Borders Group Inc. &lt;A HREF=\"http://www.investor.reuters.com/FullQuote.aspx?ticker=BGP.N target=/stocks/quickinfo/fullquote\"&gt;BGP.N&lt;/A&gt;, the No. 2  U.S. bookseller, on Tuesday said quarterly earnings rose,  beating estimates by the company and Wall Street, largely  because of stronger-than-expected book sales.')\n",
      "====================================================================================================\n",
      "(1, 'CLEVELAND PITCHER SHOT IN CALF ON TOUR BUS A pitcher for the Cleveland Indians is recovering from a shooting after Wednesday nights game. Rookie Kyle Denney was struck in his calf.')\n",
      "====================================================================================================\n",
      "(2, 'US Treasuries Up, Long-End Leads the Way  LONDON (Reuters) - U.S. Treasury prices crept higher on  Wednesday, with long-dated bonds benefiting from the view that  higher U.S. interest rates will help keep inflation under  control.')\n",
      "====================================================================================================\n",
      "(2, 'SEC Seen Making Google IPO Effective WASHINGTON (Reuters) - The US Securities and Exchange Commission is expected to declare the initial public offering registration of Google Inc. (GOOG.OQ: Quote, Profile, Research) effective after 4 pm (2000 GMT), sources familiar with the matter said on ...')\n",
      "====================================================================================================\n",
      "(3, 'IBM #39;s Liberty membership closing identity gap After months of flirting, IBM Corp has finally joined the industry-backed Liberty Alliance Project, potentially speeding interoperability between two rival sets of Web services specifications for federated identity.')\n",
      "====================================================================================================\n"
     ]
    }
   ],
   "source": [
    "for i in range(5):\n",
    "    print(split_train_[i])\n",
    "    print('=' * 100)"
   ]
  },
  {
   "cell_type": "code",
   "execution_count": 25,
   "metadata": {},
   "outputs": [
    {
     "name": "stdout",
     "output_type": "stream",
     "text": [
      "4\n",
      "{0, 1, 2, 3}\n"
     ]
    }
   ],
   "source": [
    "# define class labels\n",
    "ag_news_label = {1: \"World\", 2: \"Sports\", 3: \"Business\", 4: \"Sci/Tec\"}\n",
    "classes = set([label for (label, text) in split_train_])\n",
    "num_class = len(classes)\n",
    "print(num_class)\n",
    "print(classes)"
   ]
  },
  {
   "cell_type": "markdown",
   "metadata": {},
   "source": [
    "Collate data in batches:\n"
   ]
  },
  {
   "cell_type": "code",
   "execution_count": 26,
   "metadata": {},
   "outputs": [],
   "source": [
    "def text_pipeline(x):\n",
    "    x = x.lower()\n",
    "    return my_vocab(tokenizer(x))\n",
    "\n",
    "def label_pipeline(x):\n",
    "    return int(x)\n",
    "\n",
    "# create label, text and offset for each batch of data\n",
    "# text is the concatenated text for all text data in the batch\n",
    "# we need to have the offsets(the end of text index) for later when we separate texts and predict their label\n",
    "\n",
    "def collate_batch(batch):\n",
    "    label_list, text_list, offsets = [], [], [0]\n",
    "    for _label, _text in batch:\n",
    "        label_list.append(label_pipeline(_label))\n",
    "        processed_text = torch.tensor(text_pipeline(_text), dtype=torch.int64)\n",
    "        text_list.append(processed_text)\n",
    "        offsets.append(processed_text.size(0))\n",
    "\n",
    "    label_list = torch.tensor(label_list, dtype=torch.int64)\n",
    "    offsets = torch.tensor(offsets).cumsum(dim=0)\n",
    "    text_list = torch.cat(text_list)\n",
    "    return label_list.to(device), text_list.to(device), offsets.to(device)"
   ]
  },
  {
   "cell_type": "markdown",
   "metadata": {},
   "source": [
    "Creating data loaders for train, validation and test splits:\n"
   ]
  },
  {
   "cell_type": "code",
   "execution_count": 28,
   "metadata": {},
   "outputs": [],
   "source": [
    "BATCH_SIZE = 64\n",
    "\n",
    "train_dataloader = DataLoader(\n",
    "    split_train_, batch_size=BATCH_SIZE, shuffle=True, collate_fn=collate_batch\n",
    ")\n",
    "valid_dataloader = DataLoader(\n",
    "    split_valid_, batch_size=BATCH_SIZE, shuffle=True, collate_fn=collate_batch\n",
    ")\n",
    "test_dataloader = DataLoader(\n",
    "    test_dataset, batch_size=BATCH_SIZE, shuffle=True, collate_fn=collate_batch\n",
    ")"
   ]
  },
  {
   "cell_type": "code",
   "execution_count": 29,
   "metadata": {},
   "outputs": [
    {
     "name": "stdout",
     "output_type": "stream",
     "text": [
      "Labels: tensor([2, 2, 0, 0, 2, 3, 1, 2, 2, 1, 1, 0, 3, 1, 2, 1, 2, 3, 1, 2, 3, 2, 0, 3,\n",
      "        0, 1, 2, 2, 3, 0, 1, 3, 3, 1, 3, 2, 2, 2, 1, 0, 1, 1, 3, 0, 2, 0, 0, 2,\n",
      "        3, 1, 2, 2, 1, 1, 3, 0, 2, 2, 0, 2, 0, 1, 3, 2], device='cuda:0')\n",
      "Texts: tensor([ 1517,     2,   582,  ..., 16765,  2663,     4], device='cuda:0')\n",
      "Offsets: tensor([   0,   44,   80,  129,  171,  225,  246,  281,  322,  359,  401,  439,\n",
      "         480,  509,  571,  620,  654,  701,  744,  782,  815,  851,  896,  955,\n",
      "         987, 1034, 1062, 1107, 1150, 1193, 1226, 1276, 1319, 1361, 1402, 1446,\n",
      "        1497, 1548, 1581, 1625, 1675, 1710, 1750, 1857, 1903, 1964, 1994, 2041,\n",
      "        2095, 2140, 2189, 2223, 2255, 2287, 2340, 2382, 2427, 2467, 2501, 2542,\n",
      "        2593, 2641, 2679, 2709, 2736], device='cuda:0')\n"
     ]
    }
   ],
   "source": [
    "for labels, texts, offsets in train_dataloader:\n",
    "    print(\"Labels:\", labels)\n",
    "    print(\"Texts:\", texts)\n",
    "    print(\"Offsets:\", offsets)\n",
    "    break"
   ]
  },
  {
   "cell_type": "code",
   "execution_count": 30,
   "metadata": {},
   "outputs": [
    {
     "name": "stdout",
     "output_type": "stream",
     "text": [
      "65\n",
      "64\n"
     ]
    }
   ],
   "source": [
    "print(len(offsets))\n",
    "print(len(labels))"
   ]
  },
  {
   "cell_type": "code",
   "execution_count": 31,
   "metadata": {},
   "outputs": [
    {
     "data": {
      "text/plain": [
       "(torch.Size([64]), torch.Size([2736]), torch.Size([65]))"
      ]
     },
     "execution_count": 31,
     "metadata": {},
     "output_type": "execute_result"
    }
   ],
   "source": [
    "labels.shape, texts.shape, offsets.shape"
   ]
  },
  {
   "cell_type": "code",
   "execution_count": 32,
   "metadata": {},
   "outputs": [
    {
     "data": {
      "text/plain": [
       "100"
      ]
     },
     "execution_count": 32,
     "metadata": {},
     "output_type": "execute_result"
    }
   ],
   "source": [
    "embedding_dim = len(next(iter(embedding_dict_Glove6B.values())))\n",
    "embedding_dim"
   ]
  },
  {
   "cell_type": "code",
   "execution_count": 33,
   "metadata": {},
   "outputs": [
    {
     "data": {
      "text/plain": [
       "(400002, 100)"
      ]
     },
     "execution_count": 33,
     "metadata": {},
     "output_type": "execute_result"
    }
   ],
   "source": [
    "embedding_matrix = np.random.normal(scale=0.6, size=(len(my_vocab), embedding_dim))\n",
    "embedding_matrix.shape"
   ]
  },
  {
   "cell_type": "code",
   "execution_count": 37,
   "metadata": {},
   "outputs": [],
   "source": [
    "# Fill in pre-trained vectors\n",
    "for word, idx in my_vocab.get_stoi().items():\n",
    "    if word in embedding_dict_Glove6B:\n",
    "        embedding_matrix[idx] = embedding_dict_Glove6B[word]"
   ]
  },
  {
   "cell_type": "code",
   "execution_count": 38,
   "metadata": {},
   "outputs": [],
   "source": [
    "embedding_tensor = torch.tensor(embedding_matrix, dtype=torch.float32)"
   ]
  },
  {
   "cell_type": "code",
   "execution_count": 39,
   "metadata": {},
   "outputs": [
    {
     "data": {
      "text/plain": [
       "torch.Size([400002, 100])"
      ]
     },
     "execution_count": 39,
     "metadata": {},
     "output_type": "execute_result"
    }
   ],
   "source": [
    "embedding_tensor.shape"
   ]
  },
  {
   "cell_type": "markdown",
   "metadata": {},
   "source": [
    "Creating the classifier model:\n"
   ]
  },
  {
   "cell_type": "code",
   "execution_count": 40,
   "metadata": {},
   "outputs": [],
   "source": [
    "class TextClassificationModel(nn.Module):\n",
    "    def __init__(self, vocab_size, embed_dim, num_class):\n",
    "        super(TextClassificationModel, self).__init__()\n",
    "        self.embedding = torch.nn.Embedding.from_pretrained(embedding_tensor, freeze=True)\n",
    "        self.fc = nn.Linear(embed_dim, num_class)\n",
    "        self.init_weights()\n",
    "\n",
    "    def init_weights(self):\n",
    "        initrange = 0.5\n",
    "        self.embedding.weight.data.uniform_(-initrange, initrange)\n",
    "        self.fc.weight.data.uniform_(-initrange, initrange)\n",
    "        self.fc.bias.data.zero_()\n",
    "\n",
    "    def forward(self, text, offsets):  # text: 1D tensor of all tokens in the batch stacked together.\n",
    "        embedded = self.embedding(text) # Shape: (total_tokens_in_batch, embedding_dim) \n",
    "        # we get the average of word embeddings in the text\n",
    "        means = []\n",
    "        for i in range(1, len(offsets)):  # 1 ... 64\n",
    "            text_tmp = embedded[offsets[i-1]:offsets[i]]\n",
    "            means.append(text_tmp.mean(0))\n",
    "        return self.fc(torch.stack(means))"
   ]
  },
  {
   "cell_type": "markdown",
   "metadata": {},
   "source": [
    "evaluate function to calculate the accuracy of model:\n"
   ]
  },
  {
   "cell_type": "code",
   "execution_count": 41,
   "metadata": {},
   "outputs": [],
   "source": [
    "def evaluate(dataloader):\n",
    "    model.eval()\n",
    "    total_acc, total_count= 0, 0\n",
    "\n",
    "    with torch.no_grad():\n",
    "        for idx, (label, text, offsets) in enumerate(dataloader):\n",
    "            predicted_label = model(text, offsets)\n",
    "\n",
    "            total_acc += (predicted_label.argmax(1) == label).sum().item()\n",
    "            total_count += label.size(0)\n",
    "    return total_acc / total_count"
   ]
  },
  {
   "cell_type": "markdown",
   "metadata": {},
   "source": [
    "Creating an instance of the model and checking its prediction power before training:\n"
   ]
  },
  {
   "cell_type": "code",
   "execution_count": 42,
   "metadata": {},
   "outputs": [],
   "source": [
    "vocab_size = len(my_vocab)\n",
    "embedding_dim = 100\n",
    "model = TextClassificationModel(vocab_size, embedding_dim, num_class).to(device)"
   ]
  },
  {
   "cell_type": "code",
   "execution_count": 43,
   "metadata": {},
   "outputs": [
    {
     "data": {
      "text/plain": [
       "0.26223684210526316"
      ]
     },
     "execution_count": 43,
     "metadata": {},
     "output_type": "execute_result"
    }
   ],
   "source": [
    "evaluate(test_dataloader)"
   ]
  },
  {
   "cell_type": "markdown",
   "metadata": {},
   "source": [
    "Not good! Let's train the model:\n"
   ]
  },
  {
   "cell_type": "code",
   "execution_count": 44,
   "metadata": {},
   "outputs": [],
   "source": [
    "def train_TextClassification(model, train_dataloader, valid_dataloader, test_dataloader,\n",
    "                              criterion, optimizer, epochs=10, clip_value=1.0):\n",
    "    cum_loss_list = []\n",
    "    acc_epoch_val = []\n",
    "    acc_epoch_test = []\n",
    "    acc_old_val = 0\n",
    "\n",
    "    for epoch in tqdm(range(1, epochs + 1)):\n",
    "        model.train()\n",
    "        cum_loss = 0\n",
    "        for idx, (label, text, offsets) in enumerate(train_dataloader):\n",
    "            optimizer.zero_grad()\n",
    "            predicted_label = model(text, offsets)\n",
    "            loss = criterion(predicted_label, label)\n",
    "            loss.backward()\n",
    "            torch.nn.utils.clip_grad_norm_(model.parameters(), 0.1)\n",
    "            optimizer.step()\n",
    "            cum_loss += loss.item()\n",
    "\n",
    "        cum_loss_list.append(cum_loss/len(train_dataloader))\n",
    "        accu_val = evaluate(valid_dataloader)\n",
    "        accu_test = evaluate(test_dataloader)\n",
    "        \n",
    "        acc_epoch_val.append(accu_val)\n",
    "        acc_epoch_test.append(accu_test)\n",
    "\n",
    "        if accu_val > acc_old_val:\n",
    "            acc_old_val = accu_val\n",
    "            torch.save(model.state_dict(), 'my_model.pth')\n",
    "            \n",
    "    return model, cum_loss_list, acc_epoch_val, acc_epoch_test"
   ]
  },
  {
   "cell_type": "code",
   "execution_count": 45,
   "metadata": {},
   "outputs": [
    {
     "name": "stderr",
     "output_type": "stream",
     "text": [
      "100%|██████████| 50/50 [10:11<00:00, 12.23s/it]\n"
     ]
    }
   ],
   "source": [
    "# Hyperparameters\n",
    "LR = 0.1\n",
    "EPOCHS = 50\n",
    "clip_value = 1.0\n",
    "\n",
    "# Loss function and optimizer\n",
    "criterion = torch.nn.CrossEntropyLoss()\n",
    "optimizer = torch.optim.SGD(model.parameters(), lr=LR)\n",
    "\n",
    "# Learning rate scheduler to decay LR every epoch by factor 0.1\n",
    "scheduler = torch.optim.lr_scheduler.StepLR(optimizer, step_size=1, gamma=0.1)\n",
    "\n",
    "# Train the model\n",
    "model, cum_loss_list, acc_epoch_val, acc_epoch_test = train_TextClassification(\n",
    "    model, \n",
    "    train_dataloader, \n",
    "    valid_dataloader, \n",
    "    test_dataloader, \n",
    "    criterion, \n",
    "    optimizer, \n",
    "    epochs=EPOCHS, \n",
    "    clip_value=clip_value\n",
    ")"
   ]
  },
  {
   "cell_type": "code",
   "execution_count": null,
   "metadata": {},
   "outputs": [],
   "source": []
  },
  {
   "cell_type": "markdown",
   "metadata": {},
   "source": [
    "Let's plot the loss and accuracy for the trained model:\n"
   ]
  },
  {
   "cell_type": "code",
   "execution_count": 46,
   "metadata": {},
   "outputs": [],
   "source": [
    "def plot_metrics(loss_list, val_acc_list, test_acc_list):\n",
    "    epochs = range(1, len(loss_list) + 1)\n",
    "    \n",
    "    fig, (ax1, ax2) = plt.subplots(1, 2, figsize=(14, 5))\n",
    "    \n",
    "    # Plot Loss\n",
    "    ax1.plot(epochs, loss_list, 'r-', label='Training Loss')\n",
    "    ax1.set_xlabel('Epoch')\n",
    "    ax1.set_ylabel('Loss', color='r')\n",
    "    ax1.tick_params(axis='y', labelcolor='r')\n",
    "    ax1.set_title('Training Loss per Epoch')\n",
    "    ax1.grid(True)\n",
    "    \n",
    "    # Plot Accuracy\n",
    "    ax2.plot(epochs, val_acc_list, 'b-', label='Validation Accuracy')\n",
    "    ax2.plot(epochs, test_acc_list, 'g-', label='Test Accuracy')\n",
    "    ax2.set_xlabel('Epoch')\n",
    "    ax2.set_ylabel('Accuracy')\n",
    "    ax2.set_title('Validation and Test Accuracy per Epoch')\n",
    "    ax2.legend()\n",
    "    ax2.grid(True)\n",
    "    \n",
    "    plt.tight_layout()\n",
    "    plt.show()"
   ]
  },
  {
   "cell_type": "code",
   "execution_count": 47,
   "metadata": {},
   "outputs": [
    {
     "data": {
      "image/png": "[encoded data removed]",
      "text/plain": [
       "<Figure size 1008x360 with 2 Axes>"
      ]
     },
     "metadata": {
      "needs_background": "light"
     },
     "output_type": "display_data"
    }
   ],
   "source": [
    "plot_metrics(cum_loss_list, acc_epoch_val, acc_epoch_test)"
   ]
  },
  {
   "cell_type": "code",
   "execution_count": 50,
   "metadata": {},
   "outputs": [
    {
     "name": "stdout",
     "output_type": "stream",
     "text": [
      "Validation Accuracy:  0.5660555555555555\n",
      "Text Accuracy:  0.5682894736842106\n"
     ]
    }
   ],
   "source": [
    "print(\"Validation Accuracy: \", evaluate(valid_dataloader))\n",
    "print(\"Text Accuracy: \", evaluate(test_dataloader))"
   ]
  },
  {
   "cell_type": "code",
   "execution_count": 53,
   "metadata": {},
   "outputs": [
    {
     "name": "stdout",
     "output_type": "stream",
     "text": [
      "[0.4286111111111111, 0.4847222222222222, 0.5046666666666667, 0.5237222222222222, 0.528, 0.5321666666666667, 0.5424444444444444, 0.5457222222222222, 0.5463888888888889, 0.5511111111111111, 0.5515, 0.5521666666666667, 0.5547777777777778, 0.5552777777777778, 0.5576666666666666, 0.5605, 0.5580555555555555, 0.5607777777777778, 0.5591666666666667, 0.5614444444444444, 0.5632222222222222, 0.5627777777777778, 0.5637222222222222, 0.5633888888888889, 0.5646111111111111, 0.5621666666666667, 0.5650555555555555, 0.565, 0.5662222222222222, 0.5640555555555555, 0.5660555555555555, 0.5644444444444444, 0.5641666666666667, 0.565, 0.5662222222222222, 0.5665, 0.566, 0.5657777777777778, 0.5657222222222222, 0.5656111111111111, 0.5673333333333334, 0.565, 0.5646111111111111, 0.567, 0.5660555555555555, 0.5667222222222222, 0.5676111111111111, 0.5651666666666667, 0.5676111111111111, 0.5660555555555555]\n",
      "====================================================================================================\n",
      "[0.42526315789473684, 0.4901315789473684, 0.5061842105263158, 0.5240789473684211, 0.5310526315789473, 0.5364473684210527, 0.5401315789473684, 0.5478947368421052, 0.5463157894736842, 0.55, 0.5511842105263158, 0.5521052631578948, 0.5542105263157895, 0.5582894736842106, 0.5552631578947368, 0.5572368421052631, 0.5563157894736842, 0.5571052631578948, 0.5585526315789474, 0.5610526315789474, 0.5597368421052632, 0.5618421052631579, 0.5619736842105263, 0.5615789473684211, 0.5634210526315789, 0.5634210526315789, 0.5639473684210526, 0.5642105263157895, 0.5653947368421053, 0.5631578947368421, 0.5647368421052632, 0.5653947368421053, 0.5664473684210526, 0.5653947368421053, 0.5655263157894737, 0.5657894736842105, 0.5655263157894737, 0.5656578947368421, 0.5660526315789474, 0.5669736842105263, 0.5689473684210526, 0.5663157894736842, 0.5673684210526316, 0.5681578947368421, 0.5668421052631579, 0.5678947368421052, 0.5698684210526316, 0.5672368421052632, 0.5689473684210526, 0.5682894736842106]\n"
     ]
    }
   ],
   "source": [
    "print(acc_epoch_val)\n",
    "print('=' * 100)\n",
    "print(acc_epoch_test)"
   ]
  },
  {
   "cell_type": "code",
   "execution_count": null,
   "metadata": {},
   "outputs": [],
   "source": []
  }
 ],
 "metadata": {
  "kernelspec": {
   "display_name": "Python 3",
   "language": "python",
   "name": "python3"
  },
  "language_info": {
   "codemirror_mode": {
    "name": "ipython",
    "version": 3
   },
   "file_extension": ".py",
   "mimetype": "text/x-python",
   "name": "python",
   "nbconvert_exporter": "python",
   "pygments_lexer": "ipython3",
   "version": "3.8.10"
  },
  "prev_pub_hash": "1ef1deef8736570d3e3984985c10f4e218eb7e839174db98242e83ee15991a51"
 },
 "nbformat": 4,
 "nbformat_minor": 4
}
